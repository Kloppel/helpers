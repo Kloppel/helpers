{
 "cells": [
  {
   "cell_type": "code",
   "execution_count": 1,
   "metadata": {},
   "outputs": [],
   "source": [
    "test_line=\"ATOM      1  N   GLY    17     -29.474   4.513 -19.989  1.00101.81      ACHA      \\n\""
   ]
  },
  {
   "cell_type": "code",
   "execution_count": 2,
   "metadata": {},
   "outputs": [],
   "source": [
    "def flexible_read(line):\n",
    "    #dictionaries to control key properties\n",
    "    dict_keys=[\"atom\", \"serial_no\", \"atom_name\",\n",
    "               \"resname\", \"chainID\", \"resi_no\",\n",
    "               \"ins_code\", \"x_coord\", \"y_coord\",\n",
    "               \"z_coord\", \"occupancy\", \"temp_fac\",\n",
    "               \"segment\",\"eleme_symb\", \"charge\"]\n",
    "    key_sizes=[6,5,4,\n",
    "               3,1,4,\n",
    "               1,8,8,\n",
    "               8,6,6,\n",
    "               4,2,2]\n",
    "    key_types=[str,int,str,\n",
    "               str,str,int,\n",
    "               int,float,float,\n",
    "               float,float,float,\n",
    "               str,str,float]\n",
    "    #create output dictionary\n",
    "    output_dict={\n",
    "        \"atom\":None,\n",
    "        \"serial_no\":None,\n",
    "        \"atom_name\":None,\n",
    "        \"resname\":None,\n",
    "        \"chainID\":None,\n",
    "        \"resi_no\":None,\n",
    "        \"ins_code\":None,\n",
    "        \"x_coord\":None,\n",
    "        \"y_coord\":None,\n",
    "        \"z_coord\":None,\n",
    "        \"occupancy\":None,\n",
    "        \"temp_fac\":None,\n",
    "        \"segment\": None,\n",
    "        \"elem_symb\":None,\n",
    "        \"charge\":None\n",
    "    }\n",
    "    \n",
    "    count=0; key_count=0\n",
    "    parser=\"\"\n",
    "    while count<len(line) and key_count<len(dict_keys):\n",
    "        parser+=line[count]\n",
    "        #check if parser is full or if we are at the end of a word\n",
    "        if parser[-1]==\" \" or len(parser)>=key_sizes[key_count]:\n",
    "            #if type is correct, add to output dictionary\n",
    "            try:\n",
    "                key_types[key_count](parser)\n",
    "                output_dict[dict_keys[key_count]]=parser\n",
    "            #else go to the next possible key\n",
    "            except:\n",
    "                key_count+=1"
   ]
  },
  {
   "cell_type": "code",
   "execution_count": 3,
   "metadata": {},
   "outputs": [
    {
     "data": {
      "text/plain": [
       "'-3'"
      ]
     },
     "execution_count": 3,
     "metadata": {},
     "output_type": "execute_result"
    }
   ],
   "source": [
    "key_types=[str,int,str,\n",
    "               str,str,int,\n",
    "               int,float,float,\n",
    "               float,float,float,\n",
    "               str,str,float]\n",
    "\n",
    "key_types[0](\"-3\")"
   ]
  },
  {
   "cell_type": "code",
   "execution_count": 4,
   "metadata": {},
   "outputs": [
    {
     "data": {
      "text/plain": [
       "['hola', 'em', 'dic', 'nereu']"
      ]
     },
     "execution_count": 4,
     "metadata": {},
     "output_type": "execute_result"
    }
   ],
   "source": [
    "\"hola em dic    nereu\".split()"
   ]
  },
  {
   "cell_type": "code",
   "execution_count": 6,
   "metadata": {},
   "outputs": [
    {
     "name": "stdout",
     "output_type": "stream",
     "text": [
      "serial_no\n",
      "atom_name\n",
      "resname\n",
      "resi_no\n",
      "x_coord\n",
      "y_coord\n",
      "z_coord\n",
      "occupancy\n",
      "temp_fac\n",
      "segment\n"
     ]
    },
    {
     "data": {
      "text/plain": [
       "{'atom': 'ATOM  ',\n",
       " 'serial_no': '    1',\n",
       " 'atom_name': '   N',\n",
       " 'resname': 'GLY',\n",
       " 'chainID': ' ',\n",
       " 'resi_no': '  17',\n",
       " 'ins_code': ' ',\n",
       " 'x_coord': ' -29.474',\n",
       " 'y_coord': '   4.513',\n",
       " 'z_coord': ' -19.989',\n",
       " 'occupancy': '  1.00',\n",
       " 'temp_fac': '101.81',\n",
       " 'segment': 'ACHA',\n",
       " 'elem_symb': '  ',\n",
       " 'charge': '  '}"
      ]
     },
     "execution_count": 6,
     "metadata": {},
     "output_type": "execute_result"
    }
   ],
   "source": [
    "def dynamic_reader(line):\n",
    "    words=line.split()\n",
    "    dict_keys=[\"atom\", \"serial_no\", \"atom_name\",\n",
    "               \"resname\", \"chainID\", \"resi_no\",\n",
    "               \"ins_code\", \"x_coord\", \"y_coord\",\n",
    "               \"z_coord\", \"occupancy\", \"temp_fac\",\n",
    "               \"segment\",\"elem_symb\", \"charge\"]\n",
    "    key_sizes=[6,5,4,\n",
    "               3,1,4,\n",
    "               1,8,8,\n",
    "               8,6,6,\n",
    "               4,2,2]\n",
    "    output_dict={\n",
    "        \"atom\":None,\n",
    "        \"serial_no\":None,\n",
    "        \"atom_name\":None,\n",
    "        \"resname\":None,\n",
    "        \"chainID\":None,\n",
    "        \"resi_no\":None,\n",
    "        \"ins_code\":None,\n",
    "        \"x_coord\":None,\n",
    "        \"y_coord\":None,\n",
    "        \"z_coord\":None,\n",
    "        \"occupancy\":None,\n",
    "        \"temp_fac\":None,\n",
    "        \"segment\": None,\n",
    "        \"elem_symb\":None,\n",
    "        \"charge\":None\n",
    "    }\n",
    "\n",
    "    count=0; word_count=0\n",
    "    while word_count<len(words):\n",
    "        word=words[word_count]\n",
    "        if len(word)<=key_sizes[count]:\n",
    "            output_dict[dict_keys[count]]=word\n",
    "            count+=1\n",
    "        #check if it can\n",
    "        elif len(word)>key_sizes[count]:\n",
    "            count2=count+1\n",
    "            expected=key_sizes[count]+key_sizes[count2]\n",
    "            while len(word)>expected:\n",
    "                count2+=1\n",
    "                expected+=key_sizes[count2]\n",
    "            if expected-len(word)<=key_sizes[count]:      \n",
    "                count2=count+1; ccount2=count2\n",
    "                word2=word[::-1]\n",
    "                while count2>count:\n",
    "                    output_dict[dict_keys[count2]]=word2[:key_sizes[count2]][::-1]\n",
    "                    word2=word2[key_sizes[count2]:]\n",
    "                    count2-=1\n",
    "                output_dict[dict_keys[count2]]=word2[::-1]\n",
    "                count=ccount2+1\n",
    "            else:\n",
    "                word_count-=1\n",
    "                count+=1\n",
    "                \n",
    "        word_count+=1\n",
    "    for indx,key in enumerate(output_dict.keys()):\n",
    "        if output_dict[key]==None:\n",
    "            output_dict[key]=\" \"*key_sizes[indx]\n",
    "        #atom key is left justified\n",
    "        elif key==\"atom\":\n",
    "            output_dict[key]=output_dict[key].ljust(key_sizes[indx])\n",
    "        else:\n",
    "            print(key)\n",
    "            output_dict[key]=output_dict[key].rjust(key_sizes[indx])\n",
    "\n",
    "    return output_dict\n",
    "\n",
    "dynamic_reader(test_line)                \n",
    "            \n"
   ]
  },
  {
   "cell_type": "code",
   "execution_count": 76,
   "metadata": {},
   "outputs": [],
   "source": [
    "import pandas as pd"
   ]
  },
  {
   "cell_type": "code",
   "execution_count": 77,
   "metadata": {},
   "outputs": [
    {
     "data": {
      "text/html": [
       "<div>\n",
       "<style scoped>\n",
       "    .dataframe tbody tr th:only-of-type {\n",
       "        vertical-align: middle;\n",
       "    }\n",
       "\n",
       "    .dataframe tbody tr th {\n",
       "        vertical-align: top;\n",
       "    }\n",
       "\n",
       "    .dataframe thead th {\n",
       "        text-align: right;\n",
       "    }\n",
       "</style>\n",
       "<table border=\"1\" class=\"dataframe\">\n",
       "  <thead>\n",
       "    <tr style=\"text-align: right;\">\n",
       "      <th></th>\n",
       "      <th># PDB</th>\n",
       "      <th>Heme</th>\n",
       "      <th>ligand</th>\n",
       "      <th>saddling</th>\n",
       "    </tr>\n",
       "  </thead>\n",
       "  <tbody>\n",
       "    <tr>\n",
       "      <th>0</th>\n",
       "      <td>101m</td>\n",
       "      <td>HEM_A_155</td>\n",
       "      <td>HIS-NBN</td>\n",
       "      <td>0.288</td>\n",
       "    </tr>\n",
       "    <tr>\n",
       "      <th>1</th>\n",
       "      <td>102m</td>\n",
       "      <td>HEM_A_155</td>\n",
       "      <td>HIS-HOH</td>\n",
       "      <td>0.099</td>\n",
       "    </tr>\n",
       "    <tr>\n",
       "      <th>2</th>\n",
       "      <td>103m</td>\n",
       "      <td>HEM_A_155</td>\n",
       "      <td>HIS-NBN</td>\n",
       "      <td>0.320</td>\n",
       "    </tr>\n",
       "    <tr>\n",
       "      <th>3</th>\n",
       "      <td>104m</td>\n",
       "      <td>HEM_A_155</td>\n",
       "      <td>HIS-NBN</td>\n",
       "      <td>0.151</td>\n",
       "    </tr>\n",
       "    <tr>\n",
       "      <th>4</th>\n",
       "      <td>105m</td>\n",
       "      <td>HEM_A_155</td>\n",
       "      <td>HIS-NBN</td>\n",
       "      <td>0.150</td>\n",
       "    </tr>\n",
       "    <tr>\n",
       "      <th>...</th>\n",
       "      <td>...</td>\n",
       "      <td>...</td>\n",
       "      <td>...</td>\n",
       "      <td>...</td>\n",
       "    </tr>\n",
       "    <tr>\n",
       "      <th>14858</th>\n",
       "      <td>8sqq</td>\n",
       "      <td>HEM_A_205</td>\n",
       "      <td>MET</td>\n",
       "      <td>-0.466</td>\n",
       "    </tr>\n",
       "    <tr>\n",
       "      <th>14859</th>\n",
       "      <td>8sqr</td>\n",
       "      <td>HEM_A_214</td>\n",
       "      <td>MET</td>\n",
       "      <td>-0.570</td>\n",
       "    </tr>\n",
       "    <tr>\n",
       "      <th>14860</th>\n",
       "      <td>8sqt</td>\n",
       "      <td>HEM_A_208</td>\n",
       "      <td>MET</td>\n",
       "      <td>-0.641</td>\n",
       "    </tr>\n",
       "    <tr>\n",
       "      <th>14861</th>\n",
       "      <td>9nse</td>\n",
       "      <td>HEM_A_500</td>\n",
       "      <td>CYS</td>\n",
       "      <td>-0.829</td>\n",
       "    </tr>\n",
       "    <tr>\n",
       "      <th>14862</th>\n",
       "      <td>9nse</td>\n",
       "      <td>HEM_B_500</td>\n",
       "      <td>CYS</td>\n",
       "      <td>-0.805</td>\n",
       "    </tr>\n",
       "  </tbody>\n",
       "</table>\n",
       "<p>14863 rows × 4 columns</p>\n",
       "</div>"
      ],
      "text/plain": [
       "      # PDB       Heme   ligand  saddling\n",
       "0      101m  HEM_A_155  HIS-NBN     0.288\n",
       "1      102m  HEM_A_155  HIS-HOH     0.099\n",
       "2      103m  HEM_A_155  HIS-NBN     0.320\n",
       "3      104m  HEM_A_155  HIS-NBN     0.151\n",
       "4      105m  HEM_A_155  HIS-NBN     0.150\n",
       "...     ...        ...      ...       ...\n",
       "14858  8sqq  HEM_A_205      MET    -0.466\n",
       "14859  8sqr  HEM_A_214      MET    -0.570\n",
       "14860  8sqt  HEM_A_208      MET    -0.641\n",
       "14861  9nse  HEM_A_500      CYS    -0.829\n",
       "14862  9nse  HEM_B_500      CYS    -0.805\n",
       "\n",
       "[14863 rows x 4 columns]"
      ]
     },
     "execution_count": 77,
     "metadata": {},
     "output_type": "execute_result"
    }
   ],
   "source": [
    "pd.read_csv(\"pyDISH_data.csv\", sep=\",\")"
   ]
  },
  {
   "cell_type": "code",
   "execution_count": 16,
   "metadata": {},
   "outputs": [
    {
     "data": {
      "text/plain": [
       "['ATOM',\n",
       " '1',\n",
       " 'N',\n",
       " 'GLY',\n",
       " '17',\n",
       " '-29.474',\n",
       " '4.513',\n",
       " '-19.989',\n",
       " '1.00101.81',\n",
       " 'ACHA']"
      ]
     },
     "execution_count": 16,
     "metadata": {},
     "output_type": "execute_result"
    }
   ],
   "source": []
  },
  {
   "cell_type": "code",
   "execution_count": 15,
   "metadata": {},
   "outputs": [
    {
     "data": {
      "text/plain": [
       "0"
      ]
     },
     "execution_count": 15,
     "metadata": {},
     "output_type": "execute_result"
    }
   ],
   "source": [
    "len(word[9:9])"
   ]
  },
  {
   "cell_type": "code",
   "execution_count": null,
   "metadata": {},
   "outputs": [],
   "source": []
  }
 ],
 "metadata": {
  "kernelspec": {
   "display_name": "helpers",
   "language": "python",
   "name": "python3"
  },
  "language_info": {
   "codemirror_mode": {
    "name": "ipython",
    "version": 3
   },
   "file_extension": ".py",
   "mimetype": "text/x-python",
   "name": "python",
   "nbconvert_exporter": "python",
   "pygments_lexer": "ipython3",
   "version": "3.11.4"
  },
  "orig_nbformat": 4
 },
 "nbformat": 4,
 "nbformat_minor": 2
}
