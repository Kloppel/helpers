{
 "cells": [
  {
   "cell_type": "code",
   "execution_count": 1,
   "metadata": {},
   "outputs": [],
   "source": [
    "from pdb_tools import line_operations"
   ]
  },
  {
   "cell_type": "code",
   "execution_count": 44,
   "metadata": {},
   "outputs": [
    {
     "data": {
      "text/plain": [
       "5"
      ]
     },
     "execution_count": 44,
     "metadata": {},
     "output_type": "execute_result"
    }
   ],
   "source": [
    "len(f\"{123: >5}\")"
   ]
  },
  {
   "cell_type": "code",
   "execution_count": 5,
   "metadata": {},
   "outputs": [
    {
     "data": {
      "text/plain": [
       "False"
      ]
     },
     "execution_count": 5,
     "metadata": {},
     "output_type": "execute_result"
    }
   ],
   "source": []
  },
  {
   "cell_type": "code",
   "execution_count": 33,
   "metadata": {},
   "outputs": [
    {
     "data": {
      "text/plain": [
       "77"
      ]
     },
     "execution_count": 33,
     "metadata": {},
     "output_type": "execute_result"
    }
   ],
   "source": [
    "line=\"ATOM      1  N   GLY    17     -29.474   4.513 -19.989  1.00101.81      ACHA\\n\"\n",
    "\n",
    "len(line)"
   ]
  },
  {
   "cell_type": "code",
   "execution_count": 42,
   "metadata": {},
   "outputs": [
    {
     "data": {
      "text/plain": [
       "'\\n'"
      ]
     },
     "execution_count": 42,
     "metadata": {},
     "output_type": "execute_result"
    }
   ],
   "source": [
    "line[76:79]"
   ]
  },
  {
   "cell_type": "code",
   "execution_count": 31,
   "metadata": {},
   "outputs": [
    {
     "data": {
      "text/plain": [
       "82"
      ]
     },
     "execution_count": 31,
     "metadata": {},
     "output_type": "execute_result"
    }
   ],
   "source": [
    "len(f\"{line:<82}\")"
   ]
  },
  {
   "cell_type": "code",
   "execution_count": 6,
   "metadata": {},
   "outputs": [],
   "source": [
    "test_line_dict= {'atom': 'ATOM  ',\n",
    "            'serial_no': '    1',\n",
    "            'atom_name': ' N  ',\n",
    "            'resname': 'GLN ',\n",
    "            'chainID': 'A',\n",
    "            'resi_no': '  29',\n",
    "            'ins_code': ' ',\n",
    "            'x_coord': ' 33.508',\n",
    "            'y_coord': ' 16.306',\n",
    "            'z_coord': '  8.974',\n",
    "            'occupancy': ' 1.00',\n",
    "            'temp_fac': ' 41.94',\n",
    "            'segment': '    ',\n",
    "            'elem_symb': 'N'}"
   ]
  },
  {
   "cell_type": "code",
   "execution_count": 5,
   "metadata": {},
   "outputs": [
    {
     "ename": "TypeError",
     "evalue": "The serial number 324.3 is not an integer !!",
     "output_type": "error",
     "traceback": [
      "\u001b[0;31m---------------------------------------------------------------------------\u001b[0m",
      "\u001b[0;31mTypeError\u001b[0m                                 Traceback (most recent call last)",
      "\u001b[0;32m/tmp/ipykernel_31975/3375366386.py\u001b[0m in \u001b[0;36m<module>\u001b[0;34m\u001b[0m\n\u001b[0;32m----> 1\u001b[0;31m \u001b[0mline_operations\u001b[0m\u001b[0;34m.\u001b[0m\u001b[0mfill_serial\u001b[0m\u001b[0;34m(\u001b[0m\u001b[0;36m324.3\u001b[0m\u001b[0;34m,\u001b[0m \u001b[0mtest_line_dict\u001b[0m\u001b[0;34m)\u001b[0m\u001b[0;34m\u001b[0m\u001b[0;34m\u001b[0m\u001b[0m\n\u001b[0m",
      "\u001b[0;32m~/Documents/nereumobu/helpers/pdb_tools.py\u001b[0m in \u001b[0;36mfill_serial\u001b[0;34m(serial_no, line_dict)\u001b[0m\n\u001b[1;32m     97\u001b[0m             \u001b[0mline_dict\u001b[0m\u001b[0;34m[\u001b[0m\u001b[0;34m\"serial_no\"\u001b[0m\u001b[0;34m]\u001b[0m \u001b[0;34m=\u001b[0m \u001b[0;34mf\"{serial_no: >5}\"\u001b[0m\u001b[0;34m\u001b[0m\u001b[0;34m\u001b[0m\u001b[0m\n\u001b[1;32m     98\u001b[0m         \u001b[0;32melse\u001b[0m\u001b[0;34m:\u001b[0m\u001b[0;34m\u001b[0m\u001b[0;34m\u001b[0m\u001b[0m\n\u001b[0;32m---> 99\u001b[0;31m             \u001b[0;32mraise\u001b[0m \u001b[0mTypeError\u001b[0m\u001b[0;34m(\u001b[0m\u001b[0;34mf\"The serial number {serial_no} is not an integer !!\"\u001b[0m\u001b[0;34m)\u001b[0m\u001b[0;34m\u001b[0m\u001b[0;34m\u001b[0m\u001b[0m\n\u001b[0m\u001b[1;32m    100\u001b[0m         \u001b[0;32mreturn\u001b[0m \u001b[0mline_dict\u001b[0m\u001b[0;34m\u001b[0m\u001b[0;34m\u001b[0m\u001b[0m\n\u001b[1;32m    101\u001b[0m \u001b[0;34m\u001b[0m\u001b[0m\n",
      "\u001b[0;31mTypeError\u001b[0m: The serial number 324.3 is not an integer !!"
     ]
    }
   ],
   "source": [
    "line_operations.fill_serial(324.3, test_line_dict)"
   ]
  },
  {
   "cell_type": "code",
   "execution_count": 15,
   "metadata": {},
   "outputs": [],
   "source": [
    "list_keys= [(key, index) for key, index in enumerate(test_line_dict.keys())]"
   ]
  },
  {
   "cell_type": "code",
   "execution_count": 16,
   "metadata": {},
   "outputs": [
    {
     "data": {
      "text/plain": [
       "[(0, 'atom'),\n",
       " (1, 'serial_no'),\n",
       " (2, 'atom_name'),\n",
       " (3, 'resname'),\n",
       " (4, 'chainID'),\n",
       " (5, 'resi_no'),\n",
       " (6, 'ins_code'),\n",
       " (7, 'x_coord'),\n",
       " (8, 'y_coord'),\n",
       " (9, 'z_coord'),\n",
       " (10, 'occupancy'),\n",
       " (11, 'temp_fac'),\n",
       " (12, 'segment'),\n",
       " (13, 'elem_symb')]"
      ]
     },
     "execution_count": 16,
     "metadata": {},
     "output_type": "execute_result"
    }
   ],
   "source": [
    "list_keys"
   ]
  },
  {
   "cell_type": "code",
   "execution_count": 27,
   "metadata": {},
   "outputs": [
    {
     "data": {
      "text/plain": [
       "[True, True]"
      ]
     },
     "execution_count": 27,
     "metadata": {},
     "output_type": "execute_result"
    }
   ],
   "source": [
    "[\"a\" in word for word in [\"ab\", \"ac\"]] "
   ]
  },
  {
   "cell_type": "code",
   "execution_count": 70,
   "metadata": {},
   "outputs": [],
   "source": [
    "def read_flexible(line):\n",
    "    line_dict= {\"atom\": '',\"serial_no\": '',\"atom_name\": '',\n",
    "                \"resname\": '',\"chainID\": '',\"resi_no\": '',\n",
    "                \"ins_code\": '',\"x_coord\": '',\"y_coord\": '',\n",
    "                \"z_coord\": '',\"occupancy\": '',\"temp_fac\": '',\n",
    "                \"segment\": '',\"elem_symb\": '',\"charge\": ''}\n",
    "    dict_keys= list(line_dict.keys())\n",
    "    dict_types= [str, int, str,\n",
    "                str, str, int,\n",
    "                str, float, float,\n",
    "                float, float, float,\n",
    "                str, str, str]\n",
    "    dict_str_types=[]\n",
    "    dict_sizes= [6, 5, 4,\n",
    "                3, 1, 4,\n",
    "                1, 8, 8,\n",
    "                8, 6, 6,\n",
    "                4, 2, 2] \n",
    "    words=line.split()\n",
    "\n",
    "    count=0; count_keys=0\n",
    "\n",
    "    while count<len(words) and count_keys<len(dict_keys):\n",
    "        word=words[count]\n",
    "        if len(word)<=dict_sizes[count_keys]:\n",
    "            try:\n",
    "                dict_types[count_keys](word)\n",
    "                line_dict[dict_keys[count_keys]]= word\n",
    "                count_keys+=1\n",
    "            except:\n",
    "                count_keys+=1\n",
    "        elif len(word)<dict_sizes[count_keys+1]:\n",
    "            count_keys+=1\n",
    "            count-=1\n",
    "        else:\n",
    "            \n",
    "            \"\"\"\n",
    "            count_part=dict_sizes[count_keys]\n",
    "            part=word[:count_part]\n",
    "            while len(word)>0:\n",
    "                notCompatible=True\n",
    "                while notCompatible and len(part)>0:\n",
    "                    try:\n",
    "                        dict_types[count_keys](part)\n",
    "                        line_dict[dict_keys[count_keys]]= part\n",
    "                        word=word[count_part:]\n",
    "                        notCompatible=False\n",
    "                    except:\n",
    "                        part= part[:-1]\n",
    "                        count_part-=1\n",
    "                count_keys+=1\n",
    "                count_part=dict_sizes[count_keys]\n",
    "                part=word[:count_part]\n",
    "        \"\"\"\n",
    "        count+=1\n",
    "    return line_dict\n"
   ]
  },
  {
   "cell_type": "code",
   "execution_count": null,
   "metadata": {},
   "outputs": [],
   "source": []
  },
  {
   "cell_type": "code",
   "execution_count": 71,
   "metadata": {},
   "outputs": [],
   "source": [
    "test_line=\"ATOM      1  N   GLY    17     -29.474   4.513 -19.989  1.00101.81      ACHA     \\n\""
   ]
  },
  {
   "cell_type": "code",
   "execution_count": 72,
   "metadata": {},
   "outputs": [
    {
     "data": {
      "text/plain": [
       "{'atom': 'ATOM',\n",
       " 'serial_no': '1',\n",
       " 'atom_name': 'N',\n",
       " 'resname': 'GLY',\n",
       " 'chainID': '',\n",
       " 'resi_no': '17',\n",
       " 'ins_code': '',\n",
       " 'x_coord': '-29.474',\n",
       " 'y_coord': '4.513',\n",
       " 'z_coord': '-19.989',\n",
       " 'occupancy': '1.0010',\n",
       " 'temp_fac': '1.81',\n",
       " 'segment': 'ACHA',\n",
       " 'elem_symb': '',\n",
       " 'charge': ''}"
      ]
     },
     "execution_count": 72,
     "metadata": {},
     "output_type": "execute_result"
    }
   ],
   "source": [
    "read_flexible(test_line)"
   ]
  },
  {
   "cell_type": "code",
   "execution_count": null,
   "metadata": {},
   "outputs": [],
   "source": []
  }
 ],
 "metadata": {
  "kernelspec": {
   "display_name": "Python 3",
   "language": "python",
   "name": "python3"
  },
  "language_info": {
   "codemirror_mode": {
    "name": "ipython",
    "version": 3
   },
   "file_extension": ".py",
   "mimetype": "text/x-python",
   "name": "python",
   "nbconvert_exporter": "python",
   "pygments_lexer": "ipython3",
   "version": "3.9.13"
  },
  "orig_nbformat": 4
 },
 "nbformat": 4,
 "nbformat_minor": 2
}
