{
 "cells": [
  {
   "cell_type": "code",
   "execution_count": 49,
   "metadata": {},
   "outputs": [],
   "source": [
    "import numpy as np\n",
    "import pandas as pd\n",
    "import matplotlib.pyplot as plt\n",
    "import MDAnalysis as mda\n",
    "import ana as ana\n",
    "import seaborn as sns\n",
    "import Bio as bio\n",
    "from Bio import PDB\n",
    "import warnings\n",
    "import pdb_tools"
   ]
  },
  {
   "cell_type": "markdown",
   "metadata": {},
   "source": [
    "Ignore Biopython warnings"
   ]
  },
  {
   "cell_type": "code",
   "execution_count": 29,
   "metadata": {},
   "outputs": [],
   "source": [
    "from Bio import BiopythonWarning\n",
    "warnings.filterwarnings(\"ignore\", category=BiopythonWarning)"
   ]
  },
  {
   "cell_type": "markdown",
   "metadata": {},
   "source": [
    "Load data"
   ]
  },
  {
   "cell_type": "code",
   "execution_count": 15,
   "metadata": {},
   "outputs": [
    {
     "data": {
      "text/html": [
       "<div>\n",
       "<style scoped>\n",
       "    .dataframe tbody tr th:only-of-type {\n",
       "        vertical-align: middle;\n",
       "    }\n",
       "\n",
       "    .dataframe tbody tr th {\n",
       "        vertical-align: top;\n",
       "    }\n",
       "\n",
       "    .dataframe thead th {\n",
       "        text-align: right;\n",
       "    }\n",
       "</style>\n",
       "<table border=\"1\" class=\"dataframe\">\n",
       "  <thead>\n",
       "    <tr style=\"text-align: right;\">\n",
       "      <th></th>\n",
       "      <th>frame</th>\n",
       "      <th>donor_id</th>\n",
       "      <th>hydrogen_id</th>\n",
       "      <th>acceptor_id</th>\n",
       "      <th>distance</th>\n",
       "      <th>angle</th>\n",
       "    </tr>\n",
       "  </thead>\n",
       "  <tbody>\n",
       "    <tr>\n",
       "      <th>0</th>\n",
       "      <td>0</td>\n",
       "      <td>46137</td>\n",
       "      <td>46138</td>\n",
       "      <td>46236</td>\n",
       "      <td>2.270508</td>\n",
       "      <td>171.438620</td>\n",
       "    </tr>\n",
       "    <tr>\n",
       "      <th>1</th>\n",
       "      <td>1</td>\n",
       "      <td>46236</td>\n",
       "      <td>46237</td>\n",
       "      <td>1116</td>\n",
       "      <td>2.263359</td>\n",
       "      <td>166.501215</td>\n",
       "    </tr>\n",
       "    <tr>\n",
       "      <th>2</th>\n",
       "      <td>1</td>\n",
       "      <td>46245</td>\n",
       "      <td>46246</td>\n",
       "      <td>7094</td>\n",
       "      <td>2.643274</td>\n",
       "      <td>165.738242</td>\n",
       "    </tr>\n",
       "    <tr>\n",
       "      <th>3</th>\n",
       "      <td>2</td>\n",
       "      <td>46209</td>\n",
       "      <td>46210</td>\n",
       "      <td>2209</td>\n",
       "      <td>2.775673</td>\n",
       "      <td>155.073331</td>\n",
       "    </tr>\n",
       "    <tr>\n",
       "      <th>4</th>\n",
       "      <td>2</td>\n",
       "      <td>46236</td>\n",
       "      <td>46237</td>\n",
       "      <td>1116</td>\n",
       "      <td>2.848134</td>\n",
       "      <td>154.027911</td>\n",
       "    </tr>\n",
       "    <tr>\n",
       "      <th>...</th>\n",
       "      <td>...</td>\n",
       "      <td>...</td>\n",
       "      <td>...</td>\n",
       "      <td>...</td>\n",
       "      <td>...</td>\n",
       "      <td>...</td>\n",
       "    </tr>\n",
       "    <tr>\n",
       "      <th>24423</th>\n",
       "      <td>2400</td>\n",
       "      <td>87876</td>\n",
       "      <td>87878</td>\n",
       "      <td>5830</td>\n",
       "      <td>2.796545</td>\n",
       "      <td>161.660227</td>\n",
       "    </tr>\n",
       "    <tr>\n",
       "      <th>24424</th>\n",
       "      <td>2400</td>\n",
       "      <td>92028</td>\n",
       "      <td>92030</td>\n",
       "      <td>7118</td>\n",
       "      <td>2.257973</td>\n",
       "      <td>153.534983</td>\n",
       "    </tr>\n",
       "    <tr>\n",
       "      <th>24425</th>\n",
       "      <td>2400</td>\n",
       "      <td>94944</td>\n",
       "      <td>94945</td>\n",
       "      <td>1116</td>\n",
       "      <td>2.203151</td>\n",
       "      <td>168.749616</td>\n",
       "    </tr>\n",
       "    <tr>\n",
       "      <th>24426</th>\n",
       "      <td>2400</td>\n",
       "      <td>99108</td>\n",
       "      <td>99109</td>\n",
       "      <td>4016</td>\n",
       "      <td>2.217733</td>\n",
       "      <td>171.218983</td>\n",
       "    </tr>\n",
       "    <tr>\n",
       "      <th>24427</th>\n",
       "      <td>2400</td>\n",
       "      <td>101442</td>\n",
       "      <td>101444</td>\n",
       "      <td>46137</td>\n",
       "      <td>2.265538</td>\n",
       "      <td>168.972907</td>\n",
       "    </tr>\n",
       "  </tbody>\n",
       "</table>\n",
       "<p>24428 rows × 6 columns</p>\n",
       "</div>"
      ],
      "text/plain": [
       "       frame  donor_id  hydrogen_id  acceptor_id  distance       angle\n",
       "0          0     46137        46138        46236  2.270508  171.438620\n",
       "1          1     46236        46237         1116  2.263359  166.501215\n",
       "2          1     46245        46246         7094  2.643274  165.738242\n",
       "3          2     46209        46210         2209  2.775673  155.073331\n",
       "4          2     46236        46237         1116  2.848134  154.027911\n",
       "...      ...       ...          ...          ...       ...         ...\n",
       "24423   2400     87876        87878         5830  2.796545  161.660227\n",
       "24424   2400     92028        92030         7118  2.257973  153.534983\n",
       "24425   2400     94944        94945         1116  2.203151  168.749616\n",
       "24426   2400     99108        99109         4016  2.217733  171.218983\n",
       "24427   2400    101442       101444        46137  2.265538  168.972907\n",
       "\n",
       "[24428 rows x 6 columns]"
      ]
     },
     "execution_count": 15,
     "metadata": {},
     "output_type": "execute_result"
    }
   ],
   "source": [
    "hbonds = np.load(file=\"coords/hb_small.npy\")\n",
    "hbonds_df = pd.DataFrame(hbonds, columns=[\"frame\", \"donor_id\", \"hydrogen_id\", \"acceptor_id\", \"distance\", \"angle\"])\n",
    "hbonds_df[\"frame\"] = hbonds_df[\"frame\"].astype(int)\n",
    "hbonds_df[\"donor_id\"] = hbonds_df[\"donor_id\"].astype(int)\n",
    "hbonds_df[\"hydrogen_id\"] = hbonds_df[\"hydrogen_id\"].astype(int)\n",
    "hbonds_df[\"acceptor_id\"] = hbonds_df[\"acceptor_id\"].astype(int)\n",
    "hbonds_df"
   ]
  },
  {
   "cell_type": "markdown",
   "metadata": {},
   "source": [
    "Analyze what the data actually looks like"
   ]
  },
  {
   "cell_type": "code",
   "execution_count": 16,
   "metadata": {},
   "outputs": [
    {
     "data": {
      "text/plain": [
       "Text(0, 0.5, 'count')"
      ]
     },
     "execution_count": 16,
     "metadata": {},
     "output_type": "execute_result"
    },
    {
     "data": {
      "image/png": "[encoded data removed]",
      "text/plain": [
       "<Figure size 432x288 with 1 Axes>"
      ]
     },
     "metadata": {},
     "output_type": "display_data"
    }
   ],
   "source": [
    "plt.hist(hbonds_df[\"angle\"], bins=50)\n",
    "plt.xlim([140, 190])\n",
    "plt.title(\"H-bond angles in ooxox state\")\n",
    "plt.xlabel(\"degree [°]\")\n",
    "plt.ylabel(\"count\")"
   ]
  },
  {
   "cell_type": "markdown",
   "metadata": {},
   "source": [
    "Why is there a limit for h-bond angles at 150°? https://www.ncbi.nlm.nih.gov/pmc/articles/PMC8261469/"
   ]
  },
  {
   "cell_type": "code",
   "execution_count": 17,
   "metadata": {},
   "outputs": [
    {
     "data": {
      "text/plain": [
       "Text(0, 0.5, 'count')"
      ]
     },
     "execution_count": 17,
     "metadata": {},
     "output_type": "execute_result"
    },
    {
     "data": {
      "image/png": "[encoded data removed]",
      "text/plain": [
       "<Figure size 432x288 with 1 Axes>"
      ]
     },
     "metadata": {},
     "output_type": "display_data"
    }
   ],
   "source": [
    "plt.hist(hbonds_df[\"distance\"], bins=50)\n",
    "plt.xlim([2, 3.05])\n",
    "plt.title(\"H-bond distances in ooxox state\")\n",
    "plt.xlabel(r\"distance [$\\AA$]\")\n",
    "plt.ylabel(\"count\")"
   ]
  },
  {
   "cell_type": "markdown",
   "metadata": {},
   "source": [
    "Why is there a cutoff at 3\\AA? "
   ]
  },
  {
   "cell_type": "markdown",
   "metadata": {},
   "source": [
    "Analyze how many Hbonds over time (hbonds/timeframe)"
   ]
  },
  {
   "cell_type": "code",
   "execution_count": 18,
   "metadata": {},
   "outputs": [
    {
     "data": {
      "text/html": [
       "<div>\n",
       "<style scoped>\n",
       "    .dataframe tbody tr th:only-of-type {\n",
       "        vertical-align: middle;\n",
       "    }\n",
       "\n",
       "    .dataframe tbody tr th {\n",
       "        vertical-align: top;\n",
       "    }\n",
       "\n",
       "    .dataframe thead th {\n",
       "        text-align: right;\n",
       "    }\n",
       "</style>\n",
       "<table border=\"1\" class=\"dataframe\">\n",
       "  <thead>\n",
       "    <tr style=\"text-align: right;\">\n",
       "      <th></th>\n",
       "      <th>value</th>\n",
       "      <th>hbond_count</th>\n",
       "    </tr>\n",
       "  </thead>\n",
       "  <tbody>\n",
       "    <tr>\n",
       "      <th>0</th>\n",
       "      <td>0</td>\n",
       "      <td>1</td>\n",
       "    </tr>\n",
       "    <tr>\n",
       "      <th>1</th>\n",
       "      <td>1</td>\n",
       "      <td>2</td>\n",
       "    </tr>\n",
       "    <tr>\n",
       "      <th>2</th>\n",
       "      <td>2</td>\n",
       "      <td>2</td>\n",
       "    </tr>\n",
       "    <tr>\n",
       "      <th>3</th>\n",
       "      <td>3</td>\n",
       "      <td>2</td>\n",
       "    </tr>\n",
       "    <tr>\n",
       "      <th>4</th>\n",
       "      <td>4</td>\n",
       "      <td>2</td>\n",
       "    </tr>\n",
       "    <tr>\n",
       "      <th>...</th>\n",
       "      <td>...</td>\n",
       "      <td>...</td>\n",
       "    </tr>\n",
       "    <tr>\n",
       "      <th>2395</th>\n",
       "      <td>2396</td>\n",
       "      <td>16</td>\n",
       "    </tr>\n",
       "    <tr>\n",
       "      <th>2396</th>\n",
       "      <td>2397</td>\n",
       "      <td>20</td>\n",
       "    </tr>\n",
       "    <tr>\n",
       "      <th>2397</th>\n",
       "      <td>2398</td>\n",
       "      <td>16</td>\n",
       "    </tr>\n",
       "    <tr>\n",
       "      <th>2398</th>\n",
       "      <td>2399</td>\n",
       "      <td>13</td>\n",
       "    </tr>\n",
       "    <tr>\n",
       "      <th>2399</th>\n",
       "      <td>2400</td>\n",
       "      <td>18</td>\n",
       "    </tr>\n",
       "  </tbody>\n",
       "</table>\n",
       "<p>2400 rows × 2 columns</p>\n",
       "</div>"
      ],
      "text/plain": [
       "      value  hbond_count\n",
       "0         0            1\n",
       "1         1            2\n",
       "2         2            2\n",
       "3         3            2\n",
       "4         4            2\n",
       "...     ...          ...\n",
       "2395   2396           16\n",
       "2396   2397           20\n",
       "2397   2398           16\n",
       "2398   2399           13\n",
       "2399   2400           18\n",
       "\n",
       "[2400 rows x 2 columns]"
      ]
     },
     "execution_count": 18,
     "metadata": {},
     "output_type": "execute_result"
    }
   ],
   "source": [
    "value_counts_df = pd.DataFrame(hbonds_df[\"frame\"].value_counts()).reset_index()\n",
    "value_counts_df.columns = ['value', 'hbond_count']\n",
    "sorted_df = value_counts_df.sort_values(\"value\")\n",
    "sorted_df = sorted_df.reset_index(drop=True)\n",
    "sorted_df"
   ]
  },
  {
   "cell_type": "code",
   "execution_count": 19,
   "metadata": {},
   "outputs": [
    {
     "data": {
      "image/png": "[encoded data removed]",
      "text/plain": [
       "<Figure size 432x288 with 1 Axes>"
      ]
     },
     "metadata": {},
     "output_type": "display_data"
    }
   ],
   "source": [
    "#plt.plot(sorted_df[\"hbond_count\"])\n",
    "sns.lineplot(data=sorted_df[\"hbond_count\"], estimator=np.mean, ci=95)\n",
    "sns.set_style('darkgrid')"
   ]
  },
  {
   "cell_type": "markdown",
   "metadata": {},
   "source": [
    "Analyze which partners are involved most in hbonds"
   ]
  },
  {
   "cell_type": "code",
   "execution_count": 20,
   "metadata": {},
   "outputs": [
    {
     "data": {
      "text/plain": [
       "[<matplotlib.lines.Line2D at 0x1618b3730>]"
      ]
     },
     "execution_count": 20,
     "metadata": {},
     "output_type": "execute_result"
    },
    {
     "data": {
      "image/png": "[encoded data removed]",
      "text/plain": [
       "<Figure size 432x288 with 1 Axes>"
      ]
     },
     "metadata": {},
     "output_type": "display_data"
    }
   ],
   "source": [
    "value_counts_df = pd.DataFrame(hbonds_df[\"donor_id\"].value_counts()).reset_index()\n",
    "value_counts_df.columns = ['value', 'hbond_count']\n",
    "value_counts_df\n",
    "plt.plot(value_counts_df[\"hbond_count\"])"
   ]
  },
  {
   "cell_type": "markdown",
   "metadata": {},
   "source": [
    "Most H-bonds in most frames are donated by only a very few donor molecules (Some donors are really active and most atoms do not form hbonds around the hemes)"
   ]
  },
  {
   "cell_type": "code",
   "execution_count": 21,
   "metadata": {},
   "outputs": [
    {
     "data": {
      "text/plain": [
       "[<matplotlib.lines.Line2D at 0x161915d90>]"
      ]
     },
     "execution_count": 21,
     "metadata": {},
     "output_type": "execute_result"
    },
    {
     "data": {
      "image/png": "[encoded data removed]",
      "text/plain": [
       "<Figure size 432x288 with 1 Axes>"
      ]
     },
     "metadata": {},
     "output_type": "display_data"
    }
   ],
   "source": [
    "value_counts_df = pd.DataFrame(hbonds_df[\"acceptor_id\"].value_counts()).reset_index()\n",
    "value_counts_df.columns = ['value', 'hbond_count']\n",
    "value_counts_df\n",
    "plt.plot(value_counts_df[\"hbond_count\"])"
   ]
  },
  {
   "cell_type": "markdown",
   "metadata": {},
   "source": [
    "Most H-bonds in most frames are accepted by a very few acceptor molecules (Some acceptors are really active and most atoms do not form hbonds around the hemes)"
   ]
  },
  {
   "cell_type": "markdown",
   "metadata": {},
   "source": [
    "Which molecules are most involved in the h-bonds? (Map numbers to atoms by first getting the atom and residue information from the PDB)"
   ]
  },
  {
   "cell_type": "code",
   "execution_count": 57,
   "metadata": {},
   "outputs": [
    {
     "ename": "ValueError",
     "evalue": "invalid literal for int() with base 10: '*****'",
     "output_type": "error",
     "traceback": [
      "\u001b[0;31m---------------------------------------------------------------------------\u001b[0m",
      "\u001b[0;31mValueError\u001b[0m                                Traceback (most recent call last)",
      "\u001b[1;32m/Users/jejo/Desktop/Work/ooxox/hbonds.ipynb Zelle 20\u001b[0m in \u001b[0;36m<cell line: 21>\u001b[0;34m()\u001b[0m\n\u001b[1;32m     <a href='vscode-notebook-cell:/Users/jejo/Desktop/Work/ooxox/hbonds.ipynb#X35sZmlsZQ%3D%3D?line=20'>21</a>\u001b[0m \u001b[39mfor\u001b[39;00m line \u001b[39min\u001b[39;00m lines:\n\u001b[1;32m     <a href='vscode-notebook-cell:/Users/jejo/Desktop/Work/ooxox/hbonds.ipynb#X35sZmlsZQ%3D%3D?line=21'>22</a>\u001b[0m     line_dict \u001b[39m=\u001b[39m pdb_tools\u001b[39m.\u001b[39mline_operations\u001b[39m.\u001b[39mread_pdb_line(line)\n\u001b[0;32m---> <a href='vscode-notebook-cell:/Users/jejo/Desktop/Work/ooxox/hbonds.ipynb#X35sZmlsZQ%3D%3D?line=22'>23</a>\u001b[0m     donor_df\u001b[39m.\u001b[39mloc[line_number, \u001b[39m'\u001b[39m\u001b[39mdonor_id\u001b[39m\u001b[39m'\u001b[39m] \u001b[39m=\u001b[39m \u001b[39mstr\u001b[39m(\u001b[39mint\u001b[39;49m(line_dict[\u001b[39m'\u001b[39;49m\u001b[39mserial_no\u001b[39;49m\u001b[39m'\u001b[39;49m])\u001b[39m-\u001b[39m\u001b[39m1\u001b[39m)\n\u001b[1;32m     <a href='vscode-notebook-cell:/Users/jejo/Desktop/Work/ooxox/hbonds.ipynb#X35sZmlsZQ%3D%3D?line=23'>24</a>\u001b[0m     donor_df\u001b[39m.\u001b[39mloc[line_number, \u001b[39m'\u001b[39m\u001b[39mdonor_resname\u001b[39m\u001b[39m'\u001b[39m] \u001b[39m=\u001b[39m line_dict[\u001b[39m'\u001b[39m\u001b[39mresname\u001b[39m\u001b[39m'\u001b[39m]\n\u001b[1;32m     <a href='vscode-notebook-cell:/Users/jejo/Desktop/Work/ooxox/hbonds.ipynb#X35sZmlsZQ%3D%3D?line=24'>25</a>\u001b[0m     donor_df\u001b[39m.\u001b[39mloc[line_number, \u001b[39m'\u001b[39m\u001b[39mdonor_resno\u001b[39m\u001b[39m'\u001b[39m] \u001b[39m=\u001b[39m line_dict[\u001b[39m'\u001b[39m\u001b[39mresi_no\u001b[39m\u001b[39m'\u001b[39m]\n",
      "\u001b[0;31mValueError\u001b[0m: invalid literal for int() with base 10: '*****'"
     ]
    }
   ],
   "source": [
    "pdb_file = \"coords/3hb3_ooxox.pdb\"\n",
    "#parser = PDB.PDBParser()\n",
    "#structure = parser.get_structure(\"structure_id\", pdb_file)\n",
    "#atom_names = []\n",
    "#residue_names_numbers = []\n",
    "#for model in structure:\n",
    "#    for chain in model:\n",
    "#        for residue in chain:\n",
    "#            residue_id = residue.get_id()\n",
    "#            residue_number = residue_id[1]\n",
    "#            residue_name = residue.get_resname()\n",
    "#            for atom in residue:\n",
    "#                atom_name = atom.get_name()\n",
    "#                atom_names.append(atom_name)\n",
    "#                residue_names_numbers.append(f\"{residue_name}{residue_number}\")\n",
    "\n",
    "donor_df, acceptor_df = pd.DataFrame(), pd.DataFrame()\n",
    "\n",
    "lines = pdb_tools.files.read_file(pdb_file='coords/3hb3_ooxox.pdb')\n",
    "line_number=0\n",
    "for line in lines:\n",
    "    line_dict = pdb_tools.line_operations.read_pdb_line(line)\n",
    "    donor_df.loc[line_number, 'donor_id'] = str(int(line_dict['serial_no'])-1)\n",
    "    donor_df.loc[line_number, 'donor_resname'] = line_dict['resname']\n",
    "    donor_df.loc[line_number, 'donor_resno'] = line_dict['resi_no']\n",
    "    line_number+=1\n",
    "donor_df\n",
    "\n",
    "\n",
    "\n",
    "#donor_df['donor_names'] = atom_names\n",
    "#donor_df['donor_resi'] = residue_names_numbers\n",
    "#donor_df['donor_id'] = donor_df.index\n",
    "\n",
    "#acceptor_df['acceptor_names'] = atom_names\n",
    "#acceptor_df['acceptor_resi'] = residue_names_numbers\n",
    "#acceptor_df['acceptor_id'] = acceptor_df.index"
   ]
  },
  {
   "cell_type": "code",
   "execution_count": 46,
   "metadata": {},
   "outputs": [
    {
     "data": {
      "text/html": [
       "<div>\n",
       "<style scoped>\n",
       "    .dataframe tbody tr th:only-of-type {\n",
       "        vertical-align: middle;\n",
       "    }\n",
       "\n",
       "    .dataframe tbody tr th {\n",
       "        vertical-align: top;\n",
       "    }\n",
       "\n",
       "    .dataframe thead th {\n",
       "        text-align: right;\n",
       "    }\n",
       "</style>\n",
       "<table border=\"1\" class=\"dataframe\">\n",
       "  <thead>\n",
       "    <tr style=\"text-align: right;\">\n",
       "      <th></th>\n",
       "      <th>donor_names</th>\n",
       "      <th>donor_resi</th>\n",
       "      <th>donor_id</th>\n",
       "    </tr>\n",
       "  </thead>\n",
       "  <tbody>\n",
       "    <tr>\n",
       "      <th>0</th>\n",
       "      <td>N</td>\n",
       "      <td>GLY17</td>\n",
       "      <td>0</td>\n",
       "    </tr>\n",
       "    <tr>\n",
       "      <th>1</th>\n",
       "      <td>HN</td>\n",
       "      <td>GLY17</td>\n",
       "      <td>1</td>\n",
       "    </tr>\n",
       "    <tr>\n",
       "      <th>2</th>\n",
       "      <td>CA</td>\n",
       "      <td>GLY17</td>\n",
       "      <td>2</td>\n",
       "    </tr>\n",
       "    <tr>\n",
       "      <th>3</th>\n",
       "      <td>HA1</td>\n",
       "      <td>GLY17</td>\n",
       "      <td>3</td>\n",
       "    </tr>\n",
       "    <tr>\n",
       "      <th>4</th>\n",
       "      <td>HA2</td>\n",
       "      <td>GLY17</td>\n",
       "      <td>4</td>\n",
       "    </tr>\n",
       "    <tr>\n",
       "      <th>...</th>\n",
       "      <td>...</td>\n",
       "      <td>...</td>\n",
       "      <td>...</td>\n",
       "    </tr>\n",
       "    <tr>\n",
       "      <th>63872</th>\n",
       "      <td>H1</td>\n",
       "      <td>TIP9998</td>\n",
       "      <td>63872</td>\n",
       "    </tr>\n",
       "    <tr>\n",
       "      <th>63873</th>\n",
       "      <td>H2</td>\n",
       "      <td>TIP9998</td>\n",
       "      <td>63873</td>\n",
       "    </tr>\n",
       "    <tr>\n",
       "      <th>63874</th>\n",
       "      <td>OH2</td>\n",
       "      <td>TIP9999</td>\n",
       "      <td>63874</td>\n",
       "    </tr>\n",
       "    <tr>\n",
       "      <th>63875</th>\n",
       "      <td>H1</td>\n",
       "      <td>TIP9999</td>\n",
       "      <td>63875</td>\n",
       "    </tr>\n",
       "    <tr>\n",
       "      <th>63876</th>\n",
       "      <td>H2</td>\n",
       "      <td>TIP9999</td>\n",
       "      <td>63876</td>\n",
       "    </tr>\n",
       "  </tbody>\n",
       "</table>\n",
       "<p>63877 rows × 3 columns</p>\n",
       "</div>"
      ],
      "text/plain": [
       "      donor_names donor_resi  donor_id\n",
       "0               N      GLY17         0\n",
       "1              HN      GLY17         1\n",
       "2              CA      GLY17         2\n",
       "3             HA1      GLY17         3\n",
       "4             HA2      GLY17         4\n",
       "...           ...        ...       ...\n",
       "63872          H1    TIP9998     63872\n",
       "63873          H2    TIP9998     63873\n",
       "63874         OH2    TIP9999     63874\n",
       "63875          H1    TIP9999     63875\n",
       "63876          H2    TIP9999     63876\n",
       "\n",
       "[63877 rows x 3 columns]"
      ]
     },
     "execution_count": 46,
     "metadata": {},
     "output_type": "execute_result"
    }
   ],
   "source": [
    "donor_df"
   ]
  },
  {
   "cell_type": "code",
   "execution_count": 48,
   "metadata": {},
   "outputs": [
    {
     "data": {
      "text/html": [
       "<div>\n",
       "<style scoped>\n",
       "    .dataframe tbody tr th:only-of-type {\n",
       "        vertical-align: middle;\n",
       "    }\n",
       "\n",
       "    .dataframe tbody tr th {\n",
       "        vertical-align: top;\n",
       "    }\n",
       "\n",
       "    .dataframe thead th {\n",
       "        text-align: right;\n",
       "    }\n",
       "</style>\n",
       "<table border=\"1\" class=\"dataframe\">\n",
       "  <thead>\n",
       "    <tr style=\"text-align: right;\">\n",
       "      <th></th>\n",
       "      <th>acceptor_names</th>\n",
       "      <th>acceptor_resi</th>\n",
       "      <th>acceptor_id</th>\n",
       "    </tr>\n",
       "  </thead>\n",
       "  <tbody>\n",
       "    <tr>\n",
       "      <th>0</th>\n",
       "      <td>N</td>\n",
       "      <td>GLY17</td>\n",
       "      <td>0</td>\n",
       "    </tr>\n",
       "    <tr>\n",
       "      <th>1</th>\n",
       "      <td>HN</td>\n",
       "      <td>GLY17</td>\n",
       "      <td>1</td>\n",
       "    </tr>\n",
       "    <tr>\n",
       "      <th>2</th>\n",
       "      <td>CA</td>\n",
       "      <td>GLY17</td>\n",
       "      <td>2</td>\n",
       "    </tr>\n",
       "    <tr>\n",
       "      <th>3</th>\n",
       "      <td>HA1</td>\n",
       "      <td>GLY17</td>\n",
       "      <td>3</td>\n",
       "    </tr>\n",
       "    <tr>\n",
       "      <th>4</th>\n",
       "      <td>HA2</td>\n",
       "      <td>GLY17</td>\n",
       "      <td>4</td>\n",
       "    </tr>\n",
       "    <tr>\n",
       "      <th>...</th>\n",
       "      <td>...</td>\n",
       "      <td>...</td>\n",
       "      <td>...</td>\n",
       "    </tr>\n",
       "    <tr>\n",
       "      <th>63872</th>\n",
       "      <td>H1</td>\n",
       "      <td>TIP9998</td>\n",
       "      <td>63872</td>\n",
       "    </tr>\n",
       "    <tr>\n",
       "      <th>63873</th>\n",
       "      <td>H2</td>\n",
       "      <td>TIP9998</td>\n",
       "      <td>63873</td>\n",
       "    </tr>\n",
       "    <tr>\n",
       "      <th>63874</th>\n",
       "      <td>OH2</td>\n",
       "      <td>TIP9999</td>\n",
       "      <td>63874</td>\n",
       "    </tr>\n",
       "    <tr>\n",
       "      <th>63875</th>\n",
       "      <td>H1</td>\n",
       "      <td>TIP9999</td>\n",
       "      <td>63875</td>\n",
       "    </tr>\n",
       "    <tr>\n",
       "      <th>63876</th>\n",
       "      <td>H2</td>\n",
       "      <td>TIP9999</td>\n",
       "      <td>63876</td>\n",
       "    </tr>\n",
       "  </tbody>\n",
       "</table>\n",
       "<p>63877 rows × 3 columns</p>\n",
       "</div>"
      ],
      "text/plain": [
       "      acceptor_names acceptor_resi  acceptor_id\n",
       "0                  N         GLY17            0\n",
       "1                 HN         GLY17            1\n",
       "2                 CA         GLY17            2\n",
       "3                HA1         GLY17            3\n",
       "4                HA2         GLY17            4\n",
       "...              ...           ...          ...\n",
       "63872             H1       TIP9998        63872\n",
       "63873             H2       TIP9998        63873\n",
       "63874            OH2       TIP9999        63874\n",
       "63875             H1       TIP9999        63875\n",
       "63876             H2       TIP9999        63876\n",
       "\n",
       "[63877 rows x 3 columns]"
      ]
     },
     "execution_count": 48,
     "metadata": {},
     "output_type": "execute_result"
    }
   ],
   "source": [
    "acceptor_df"
   ]
  },
  {
   "cell_type": "markdown",
   "metadata": {},
   "source": [
    "Now merge the dataframes so that the atom names and residue_names_numbers information is accessible in the original dataframe"
   ]
  },
  {
   "cell_type": "code",
   "execution_count": 47,
   "metadata": {},
   "outputs": [
    {
     "data": {
      "text/html": [
       "<div>\n",
       "<style scoped>\n",
       "    .dataframe tbody tr th:only-of-type {\n",
       "        vertical-align: middle;\n",
       "    }\n",
       "\n",
       "    .dataframe tbody tr th {\n",
       "        vertical-align: top;\n",
       "    }\n",
       "\n",
       "    .dataframe thead th {\n",
       "        text-align: right;\n",
       "    }\n",
       "</style>\n",
       "<table border=\"1\" class=\"dataframe\">\n",
       "  <thead>\n",
       "    <tr style=\"text-align: right;\">\n",
       "      <th></th>\n",
       "      <th>frame</th>\n",
       "      <th>donor_id</th>\n",
       "      <th>hydrogen_id</th>\n",
       "      <th>acceptor_id</th>\n",
       "      <th>distance</th>\n",
       "      <th>angle</th>\n",
       "      <th>donor_names</th>\n",
       "      <th>donor_resi</th>\n",
       "      <th>acceptor_names</th>\n",
       "      <th>acceptor_resi</th>\n",
       "    </tr>\n",
       "  </thead>\n",
       "  <tbody>\n",
       "    <tr>\n",
       "      <th>0</th>\n",
       "      <td>0</td>\n",
       "      <td>46137</td>\n",
       "      <td>46138</td>\n",
       "      <td>46236</td>\n",
       "      <td>2.270508</td>\n",
       "      <td>171.438620</td>\n",
       "      <td>H2</td>\n",
       "      <td>TIP4086</td>\n",
       "      <td>H2</td>\n",
       "      <td>TIP4119</td>\n",
       "    </tr>\n",
       "    <tr>\n",
       "      <th>1</th>\n",
       "      <td>1</td>\n",
       "      <td>46236</td>\n",
       "      <td>46237</td>\n",
       "      <td>1116</td>\n",
       "      <td>2.263359</td>\n",
       "      <td>166.501215</td>\n",
       "      <td>H2</td>\n",
       "      <td>TIP4119</td>\n",
       "      <td>OD1</td>\n",
       "      <td>ASN88</td>\n",
       "    </tr>\n",
       "    <tr>\n",
       "      <th>2</th>\n",
       "      <td>1</td>\n",
       "      <td>46245</td>\n",
       "      <td>46246</td>\n",
       "      <td>7094</td>\n",
       "      <td>2.643274</td>\n",
       "      <td>165.738242</td>\n",
       "      <td>H2</td>\n",
       "      <td>TIP4122</td>\n",
       "      <td>O</td>\n",
       "      <td>PRO472</td>\n",
       "    </tr>\n",
       "    <tr>\n",
       "      <th>3</th>\n",
       "      <td>2</td>\n",
       "      <td>46209</td>\n",
       "      <td>46210</td>\n",
       "      <td>2209</td>\n",
       "      <td>2.775673</td>\n",
       "      <td>155.073331</td>\n",
       "      <td>H2</td>\n",
       "      <td>TIP4110</td>\n",
       "      <td>O</td>\n",
       "      <td>GLY161</td>\n",
       "    </tr>\n",
       "    <tr>\n",
       "      <th>4</th>\n",
       "      <td>2</td>\n",
       "      <td>46236</td>\n",
       "      <td>46237</td>\n",
       "      <td>1116</td>\n",
       "      <td>2.848134</td>\n",
       "      <td>154.027911</td>\n",
       "      <td>H2</td>\n",
       "      <td>TIP4119</td>\n",
       "      <td>OD1</td>\n",
       "      <td>ASN88</td>\n",
       "    </tr>\n",
       "    <tr>\n",
       "      <th>...</th>\n",
       "      <td>...</td>\n",
       "      <td>...</td>\n",
       "      <td>...</td>\n",
       "      <td>...</td>\n",
       "      <td>...</td>\n",
       "      <td>...</td>\n",
       "      <td>...</td>\n",
       "      <td>...</td>\n",
       "      <td>...</td>\n",
       "      <td>...</td>\n",
       "    </tr>\n",
       "    <tr>\n",
       "      <th>24423</th>\n",
       "      <td>2400</td>\n",
       "      <td>87876</td>\n",
       "      <td>87878</td>\n",
       "      <td>5830</td>\n",
       "      <td>2.796545</td>\n",
       "      <td>161.660227</td>\n",
       "      <td>NaN</td>\n",
       "      <td>NaN</td>\n",
       "      <td>O</td>\n",
       "      <td>SER394</td>\n",
       "    </tr>\n",
       "    <tr>\n",
       "      <th>24424</th>\n",
       "      <td>2400</td>\n",
       "      <td>92028</td>\n",
       "      <td>92030</td>\n",
       "      <td>7118</td>\n",
       "      <td>2.257973</td>\n",
       "      <td>153.534983</td>\n",
       "      <td>NaN</td>\n",
       "      <td>NaN</td>\n",
       "      <td>O</td>\n",
       "      <td>ARG473</td>\n",
       "    </tr>\n",
       "    <tr>\n",
       "      <th>24425</th>\n",
       "      <td>2400</td>\n",
       "      <td>94944</td>\n",
       "      <td>94945</td>\n",
       "      <td>1116</td>\n",
       "      <td>2.203151</td>\n",
       "      <td>168.749616</td>\n",
       "      <td>NaN</td>\n",
       "      <td>NaN</td>\n",
       "      <td>OD1</td>\n",
       "      <td>ASN88</td>\n",
       "    </tr>\n",
       "    <tr>\n",
       "      <th>24426</th>\n",
       "      <td>2400</td>\n",
       "      <td>99108</td>\n",
       "      <td>99109</td>\n",
       "      <td>4016</td>\n",
       "      <td>2.217733</td>\n",
       "      <td>171.218983</td>\n",
       "      <td>NaN</td>\n",
       "      <td>NaN</td>\n",
       "      <td>OE2</td>\n",
       "      <td>GLU278</td>\n",
       "    </tr>\n",
       "    <tr>\n",
       "      <th>24427</th>\n",
       "      <td>2400</td>\n",
       "      <td>101442</td>\n",
       "      <td>101444</td>\n",
       "      <td>46137</td>\n",
       "      <td>2.265538</td>\n",
       "      <td>168.972907</td>\n",
       "      <td>NaN</td>\n",
       "      <td>NaN</td>\n",
       "      <td>H2</td>\n",
       "      <td>TIP4086</td>\n",
       "    </tr>\n",
       "  </tbody>\n",
       "</table>\n",
       "<p>24428 rows × 10 columns</p>\n",
       "</div>"
      ],
      "text/plain": [
       "       frame  donor_id  hydrogen_id  acceptor_id  distance       angle  \\\n",
       "0          0     46137        46138        46236  2.270508  171.438620   \n",
       "1          1     46236        46237         1116  2.263359  166.501215   \n",
       "2          1     46245        46246         7094  2.643274  165.738242   \n",
       "3          2     46209        46210         2209  2.775673  155.073331   \n",
       "4          2     46236        46237         1116  2.848134  154.027911   \n",
       "...      ...       ...          ...          ...       ...         ...   \n",
       "24423   2400     87876        87878         5830  2.796545  161.660227   \n",
       "24424   2400     92028        92030         7118  2.257973  153.534983   \n",
       "24425   2400     94944        94945         1116  2.203151  168.749616   \n",
       "24426   2400     99108        99109         4016  2.217733  171.218983   \n",
       "24427   2400    101442       101444        46137  2.265538  168.972907   \n",
       "\n",
       "      donor_names donor_resi acceptor_names acceptor_resi  \n",
       "0              H2    TIP4086             H2       TIP4119  \n",
       "1              H2    TIP4119            OD1         ASN88  \n",
       "2              H2    TIP4122              O        PRO472  \n",
       "3              H2    TIP4110              O        GLY161  \n",
       "4              H2    TIP4119            OD1         ASN88  \n",
       "...           ...        ...            ...           ...  \n",
       "24423         NaN        NaN              O        SER394  \n",
       "24424         NaN        NaN              O        ARG473  \n",
       "24425         NaN        NaN            OD1         ASN88  \n",
       "24426         NaN        NaN            OE2        GLU278  \n",
       "24427         NaN        NaN             H2       TIP4086  \n",
       "\n",
       "[24428 rows x 10 columns]"
      ]
     },
     "execution_count": 47,
     "metadata": {},
     "output_type": "execute_result"
    }
   ],
   "source": [
    "joined_df = pd.merge(hbonds_df, donor_df, on='donor_id', how='left')\n",
    "joined_df = pd.merge(joined_df, acceptor_df, on='acceptor_id', how='left')\n",
    "joined_df"
   ]
  },
  {
   "cell_type": "code",
   "execution_count": null,
   "metadata": {},
   "outputs": [],
   "source": []
  },
  {
   "cell_type": "markdown",
   "metadata": {},
   "source": [
    "Are those forming hbonds with each other? Are they stable?"
   ]
  },
  {
   "cell_type": "code",
   "execution_count": null,
   "metadata": {},
   "outputs": [],
   "source": [
    "    "
   ]
  },
  {
   "cell_type": "markdown",
   "metadata": {},
   "source": [
    "Are those partners forming stable hbonds (visible in more frames)?"
   ]
  },
  {
   "cell_type": "code",
   "execution_count": null,
   "metadata": {},
   "outputs": [],
   "source": []
  },
  {
   "cell_type": "markdown",
   "metadata": {},
   "source": [
    "Are those that form stable hbonds switching up into interesting other hbonds?"
   ]
  },
  {
   "cell_type": "code",
   "execution_count": null,
   "metadata": {},
   "outputs": [],
   "source": []
  },
  {
   "cell_type": "markdown",
   "metadata": {},
   "source": [
    "Are the stable hbonds the same as in the crystal structure, or in the model that Jovan proposed?"
   ]
  },
  {
   "cell_type": "code",
   "execution_count": null,
   "metadata": {},
   "outputs": [],
   "source": []
  },
  {
   "cell_type": "markdown",
   "metadata": {},
   "source": []
  }
 ],
 "metadata": {
  "kernelspec": {
   "display_name": "Python 3.9.13 ('work')",
   "language": "python",
   "name": "python3"
  },
  "language_info": {
   "codemirror_mode": {
    "name": "ipython",
    "version": 3
   },
   "file_extension": ".py",
   "mimetype": "text/x-python",
   "name": "python",
   "nbconvert_exporter": "python",
   "pygments_lexer": "ipython3",
   "version": "3.9.13"
  },
  "orig_nbformat": 4,
  "vscode": {
   "interpreter": {
    "hash": "ac9aff95240d2454192ab8549a0a0ea0879f0917f7124d16bef57df7e6dec046"
   }
  }
 },
 "nbformat": 4,
 "nbformat_minor": 2
}
