{
 "cells": [
  {
   "cell_type": "code",
   "execution_count": 1,
   "metadata": {},
   "outputs": [],
   "source": [
    "import numpy as np\n",
    "import pandas as pd\n",
    "import matplotlib.pyplot as plt\n",
    "import test\n",
    "from pdb_tools import *\n",
    "import unittest\n",
    "import pytest"
   ]
  },
  {
   "cell_type": "code",
   "execution_count": 3,
   "metadata": {},
   "outputs": [
    {
     "data": {
      "text/plain": [
       "80"
      ]
     },
     "execution_count": 3,
     "metadata": {},
     "output_type": "execute_result"
    }
   ],
   "source": [
    "len(\"ATOM      1  N   GLY A  17     -29.474   4.513 -19.989  1.00101.81      ACHA N  \")"
   ]
  },
  {
   "cell_type": "code",
   "execution_count": 5,
   "metadata": {},
   "outputs": [],
   "source": [
    "class TestClassLines:\n",
    "    def test_LineLength(self):\n",
    "        assert len(self.line) == 80\n",
    "    \n",
    "    def test_PositionATOM(self):\n",
    "        assert self.line[0:6] == \"ATOM  \"\n",
    "        \n",
    "    def test_PositionHETATM(self):\n",
    "        assert self.line[0:6] == \"HETATM\"\n",
    "    \n",
    "    def test_"
   ]
  },
  {
   "cell_type": "code",
   "execution_count": null,
   "metadata": {},
   "outputs": [],
   "source": []
  }
 ],
 "metadata": {
  "kernelspec": {
   "display_name": "Python 3.9.13 ('work')",
   "language": "python",
   "name": "python3"
  },
  "language_info": {
   "codemirror_mode": {
    "name": "ipython",
    "version": 3
   },
   "file_extension": ".py",
   "mimetype": "text/x-python",
   "name": "python",
   "nbconvert_exporter": "python",
   "pygments_lexer": "ipython3",
   "version": "3.9.13"
  },
  "orig_nbformat": 4,
  "vscode": {
   "interpreter": {
    "hash": "ac9aff95240d2454192ab8549a0a0ea0879f0917f7124d16bef57df7e6dec046"
   }
  }
 },
 "nbformat": 4,
 "nbformat_minor": 2
}
